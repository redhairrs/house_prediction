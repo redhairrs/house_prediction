{
  "cells": [
    {
      "cell_type": "code",
      "execution_count": 83,
      "metadata": {
        "id": "USiqBBJ-alCc"
      },
      "outputs": [],
      "source": [
        "# Import Necessary Libraries\n",
        "import pandas as pd\n",
        "import numpy as np\n",
        "from sklearn.model_selection import train_test_split\n",
        "from sklearn.linear_model import LinearRegression, Lasso, Ridge\n",
        "from sklearn.preprocessing import OneHotEncoder, StandardScaler\n",
        "from sklearn.compose import make_column_transformer\n",
        "from sklearn.pipeline import make_pipeline\n",
        "from sklearn.metrics import r2_score\n",
        "import pickle"
      ]
    },
    {
      "cell_type": "code",
      "execution_count": 84,
      "metadata": {
        "id": "XQclWyE8cYhe"
      },
      "outputs": [],
      "source": [
        "# Read the CSV File\n",
        "data = pd.read_csv('train.csv')"
      ]
    },
    {
      "cell_type": "code",
      "execution_count": 85,
      "metadata": {
        "colab": {
          "base_uri": "https://localhost:8080/",
          "height": 206
        },
        "id": "QF41zg7rc2FX",
        "outputId": "d69e8c30-c189-4ef7-9dab-ddfe8db6c2f3"
      },
      "outputs": [
        {
          "name": "stdout",
          "output_type": "stream",
          "text": [
            "   beds  baths    size size_units  lot_size lot_size_units  zip_code  \\\n",
            "0     3    2.5  2590.0       sqft   6000.00           sqft     98144   \n",
            "1     4    2.0  2240.0       sqft      0.31           acre     98106   \n",
            "2     4    3.0  2040.0       sqft   3783.00           sqft     98107   \n",
            "3     4    3.0  3800.0       sqft   5175.00           sqft     98199   \n",
            "4     2    2.0  1042.0       sqft       NaN            NaN     98102   \n",
            "\n",
            "       price  \n",
            "0   795000.0  \n",
            "1   915000.0  \n",
            "2   950000.0  \n",
            "3  1950000.0  \n",
            "4   950000.0  \n",
            "(2016, 8)\n",
            "<class 'pandas.core.frame.DataFrame'>\n",
            "RangeIndex: 2016 entries, 0 to 2015\n",
            "Data columns (total 8 columns):\n",
            " #   Column          Non-Null Count  Dtype  \n",
            "---  ------          --------------  -----  \n",
            " 0   beds            2016 non-null   int64  \n",
            " 1   baths           2016 non-null   float64\n",
            " 2   size            2016 non-null   float64\n",
            " 3   size_units      2016 non-null   object \n",
            " 4   lot_size        1669 non-null   float64\n",
            " 5   lot_size_units  1669 non-null   object \n",
            " 6   zip_code        2016 non-null   int64  \n",
            " 7   price           2016 non-null   float64\n",
            "dtypes: float64(4), int64(2), object(2)\n",
            "memory usage: 126.1+ KB\n",
            "None\n",
            "beds\n",
            "3     645\n",
            "2     560\n",
            "4     398\n",
            "1     256\n",
            "5     123\n",
            "6      22\n",
            "9       5\n",
            "7       3\n",
            "8       2\n",
            "14      1\n",
            "15      1\n",
            "Name: count, dtype: int64\n",
            "********************\n",
            "baths\n",
            "2.0    627\n",
            "1.0    493\n",
            "2.5    282\n",
            "3.0    198\n",
            "3.5    179\n",
            "1.5    137\n",
            "4.0     37\n",
            "4.5     21\n",
            "5.0     16\n",
            "5.5     13\n",
            "6.0      5\n",
            "7.0      4\n",
            "8.5      1\n",
            "0.5      1\n",
            "9.0      1\n",
            "6.5      1\n",
            "Name: count, dtype: int64\n",
            "********************\n",
            "size\n",
            "2080.0    12\n",
            "1440.0    11\n",
            "1370.0    11\n",
            "1580.0    11\n",
            "1460.0    11\n",
            "          ..\n",
            "591.0      1\n",
            "4693.0     1\n",
            "2330.0     1\n",
            "2198.0     1\n",
            "1736.0     1\n",
            "Name: count, Length: 879, dtype: int64\n",
            "********************\n",
            "size_units\n",
            "sqft    2016\n",
            "Name: count, dtype: int64\n",
            "********************\n",
            "lot_size\n",
            "5000.0    61\n",
            "4000.0    45\n",
            "6000.0    38\n",
            "1.0       26\n",
            "4800.0    16\n",
            "          ..\n",
            "1393.0     1\n",
            "3774.0     1\n",
            "7407.0     1\n",
            "1486.0     1\n",
            "3783.0     1\n",
            "Name: count, Length: 959, dtype: int64\n",
            "********************\n",
            "lot_size_units\n",
            "sqft    1449\n",
            "acre     220\n",
            "Name: count, dtype: int64\n",
            "********************\n",
            "zip_code\n",
            "98115    170\n",
            "98103    166\n",
            "98117    151\n",
            "98144    113\n",
            "98122    109\n",
            "98118    100\n",
            "98116     88\n",
            "98107     83\n",
            "98126     80\n",
            "98106     78\n",
            "98125     78\n",
            "98105     73\n",
            "98199     72\n",
            "98119     70\n",
            "98133     61\n",
            "98109     61\n",
            "98136     60\n",
            "98102     60\n",
            "98121     59\n",
            "98112     57\n",
            "98178     44\n",
            "98168     44\n",
            "98146     41\n",
            "98108     33\n",
            "98177     27\n",
            "98101     23\n",
            "98104     14\n",
            "98164      1\n",
            "Name: count, dtype: int64\n",
            "********************\n",
            "price\n",
            "750000.0     27\n",
            "700000.0     25\n",
            "850000.0     23\n",
            "950000.0     20\n",
            "900000.0     19\n",
            "             ..\n",
            "916500.0      1\n",
            "531000.0      1\n",
            "1037300.0     1\n",
            "924900.0      1\n",
            "411000.0      1\n",
            "Name: count, Length: 767, dtype: int64\n",
            "********************\n",
            "beds                0\n",
            "baths               0\n",
            "size                0\n",
            "size_units          0\n",
            "lot_size          347\n",
            "lot_size_units    347\n",
            "zip_code            0\n",
            "price               0\n",
            "dtype: int64\n"
          ]
        }
      ],
      "source": [
        "print(data.head())\n",
        "print(data.shape)\n",
        "print(data.info())\n",
        "\n",
        "for column in data.columns:\n",
        "    print(data[column].value_counts())\n",
        "    print(\"*\" * 20)\n",
        "\n",
        "print(data.isna().sum())"
      ]
    },
    {
      "cell_type": "code",
      "execution_count": 86,
      "metadata": {
        "colab": {
          "base_uri": "https://localhost:8080/"
        },
        "id": "iA6CczdGc5EO",
        "outputId": "aa31143f-7675-442b-9ff4-d4249f9366f1"
      },
      "outputs": [
        {
          "name": "stdout",
          "output_type": "stream",
          "text": [
            "              beds        baths          size      zip_code         price\n",
            "count  2016.000000  2016.000000   2016.000000   2016.000000  2.016000e+03\n",
            "mean      2.857639     2.159970   1735.740575  98123.638889  9.636252e+05\n",
            "std       1.255092     1.002023    920.132591     22.650819  9.440954e+05\n",
            "min       1.000000     0.500000    250.000000  98101.000000  1.590000e+05\n",
            "25%       2.000000     1.500000   1068.750000  98108.000000  6.017500e+05\n",
            "50%       3.000000     2.000000   1560.000000  98117.000000  8.000000e+05\n",
            "75%       4.000000     2.500000   2222.500000  98126.000000  1.105250e+06\n",
            "max      15.000000     9.000000  11010.000000  98199.000000  2.500000e+07\n",
            "<class 'pandas.core.frame.DataFrame'>\n",
            "RangeIndex: 2016 entries, 0 to 2015\n",
            "Data columns (total 6 columns):\n",
            " #   Column      Non-Null Count  Dtype  \n",
            "---  ------      --------------  -----  \n",
            " 0   beds        2016 non-null   int64  \n",
            " 1   baths       2016 non-null   float64\n",
            " 2   size        2016 non-null   float64\n",
            " 3   size_units  2016 non-null   object \n",
            " 4   zip_code    2016 non-null   int64  \n",
            " 5   price       2016 non-null   float64\n",
            "dtypes: float64(3), int64(2), object(1)\n",
            "memory usage: 94.6+ KB\n",
            "None\n"
          ]
        }
      ],
      "source": [
        "data.drop(columns=['lot_size', 'lot_size_units'], inplace=True)\n",
        "print(data.describe())\n",
        "print(data.info())"
      ]
    },
    {
      "cell_type": "code",
      "execution_count": 87,
      "metadata": {
        "colab": {
          "base_uri": "https://localhost:8080/"
        },
        "id": "lBSmVCAWc9XC",
        "outputId": "1e8650c6-9d76-49ea-df2d-f0c36afd3775"
      },
      "outputs": [
        {
          "name": "stdout",
          "output_type": "stream",
          "text": [
            "              beds        baths          size      zip_code         price  \\\n",
            "count  2016.000000  2016.000000   2016.000000   2016.000000  2.016000e+03   \n",
            "mean      2.857639     2.159970   1735.740575  98123.638889  9.636252e+05   \n",
            "std       1.255092     1.002023    920.132591     22.650819  9.440954e+05   \n",
            "min       1.000000     0.500000    250.000000  98101.000000  1.590000e+05   \n",
            "25%       2.000000     1.500000   1068.750000  98108.000000  6.017500e+05   \n",
            "50%       3.000000     2.000000   1560.000000  98117.000000  8.000000e+05   \n",
            "75%       4.000000     2.500000   2222.500000  98126.000000  1.105250e+06   \n",
            "max      15.000000     9.000000  11010.000000  98199.000000  2.500000e+07   \n",
            "\n",
            "       price_per_sqft  \n",
            "count    2.016000e+03  \n",
            "mean     5.915851e+07  \n",
            "std      8.327952e+07  \n",
            "min      6.796117e+06  \n",
            "25%      4.452221e+07  \n",
            "50%      5.529762e+07  \n",
            "75%      6.595389e+07  \n",
            "max      3.424658e+09  \n"
          ]
        }
      ],
      "source": [
        "data['price_per_sqft'] = data['price'] * 100000 / data['size']\n",
        "print(data.describe())"
      ]
    },
    {
      "cell_type": "code",
      "execution_count": 88,
      "metadata": {
        "colab": {
          "base_uri": "https://localhost:8080/"
        },
        "id": "JDXOBxOIdBPK",
        "outputId": "666759bc-6f9d-490b-e4de-92d036fc33f3"
      },
      "outputs": [
        {
          "name": "stdout",
          "output_type": "stream",
          "text": [
            "   beds  baths    size  zip_code      price\n",
            "0     3    2.5  2590.0     98144   795000.0\n",
            "1     4    2.0  2240.0     98106   915000.0\n",
            "2     4    3.0  2040.0     98107   950000.0\n",
            "3     4    3.0  3800.0     98199  1950000.0\n",
            "4     2    2.0  1042.0     98102   950000.0\n"
          ]
        }
      ],
      "source": [
        "data.drop(columns=['size_units', 'price_per_sqft'], inplace=True)\n",
        "print(data.head())"
      ]
    },
    {
      "cell_type": "code",
      "execution_count": 89,
      "metadata": {
        "colab": {
          "base_uri": "https://localhost:8080/"
        },
        "id": "8UMiKsphdE0D",
        "outputId": "6c91e3b8-33f8-4252-adaa-3a577dc7fcb6"
      },
      "outputs": [],
      "source": [
        "data.to_csv(\"final_dataset.csv\", index=False)"
      ]
    },
    {
      "cell_type": "code",
      "execution_count": 90,
      "metadata": {
        "id": "2W9WfBmjdJoM"
      },
      "outputs": [
        {
          "name": "stdout",
          "output_type": "stream",
          "text": [
            "(1612, 4)\n",
            "(1612,)\n"
          ]
        }
      ],
      "source": [
        "X = data.drop(columns=['price'])\n",
        "y = data['price']\n",
        "X_train, X_test, y_train, y_test = train_test_split(X, y, test_size=0.2, random_state=0)\n",
        "\n",
        "print(X_train.shape)\n",
        "print(y_train.shape)"
      ]
    },
    {
      "cell_type": "code",
      "execution_count": 91,
      "metadata": {
        "colab": {
          "base_uri": "https://localhost:8080/",
          "height": 300
        },
        "id": "dJdhIeBRdNb2",
        "outputId": "7c2b63a9-625c-4780-b2a1-af3641458e0f"
      },
      "outputs": [],
      "source": [
        "column_trans = make_column_transformer((OneHotEncoder(), ['beds']), remainder='passthrough')\n",
        "scaler = StandardScaler(with_mean=False)  # Set with_mean=False to handle sparse matrices\n",
        "lr = LinearRegression()\n",
        "\n",
        "pipe_lr = make_pipeline(column_trans, scaler, lr)\n",
        "pipe_lr.fit(X_train, y_train)\n",
        "y_pred_lr = pipe_lr.predict(X_test)\n"
      ]
    },
    {
      "cell_type": "code",
      "execution_count": 92,
      "metadata": {
        "colab": {
          "base_uri": "https://localhost:8080/"
        },
        "id": "OaOs074odPs5",
        "outputId": "da845597-e680-4dfd-8acf-feaa88fbd5b2"
      },
      "outputs": [
        {
          "name": "stdout",
          "output_type": "stream",
          "text": [
            "No Regularization:  0.5746822864697891\n"
          ]
        }
      ],
      "source": [
        "print(\"No Regularization: \", r2_score(y_test, y_pred_lr))"
      ]
    },
    {
      "cell_type": "code",
      "execution_count": 93,
      "metadata": {
        "colab": {
          "base_uri": "https://localhost:8080/"
        },
        "id": "n0k4jFQpdTzC",
        "outputId": "f08fcb19-8cc3-47ca-cb79-cd2c6f8f4d58"
      },
      "outputs": [],
      "source": [
        "pickle.dump(pipe_lr, open('LinearRegressionModel.pkl', 'wb'))"
      ]
    }
  ],
  "metadata": {
    "colab": {
      "provenance": []
    },
    "kernelspec": {
      "display_name": "Python 3",
      "name": "python3"
    },
    "language_info": {
      "codemirror_mode": {
        "name": "ipython",
        "version": 3
      },
      "file_extension": ".py",
      "mimetype": "text/x-python",
      "name": "python",
      "nbconvert_exporter": "python",
      "pygments_lexer": "ipython3",
      "version": "3.12.4"
    }
  },
  "nbformat": 4,
  "nbformat_minor": 0
}
